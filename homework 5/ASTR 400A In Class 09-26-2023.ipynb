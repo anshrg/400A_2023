{
 "cells": [
  {
   "cell_type": "code",
   "execution_count": 14,
   "id": "1066f864",
   "metadata": {},
   "outputs": [],
   "source": [
    "import numpy as np\n",
    "import matplotlib.pyplot as plt\n",
    "import matplotlib.cm as cm\n",
    "import astropy.units as u\n",
    "import astropy.constants as c"
   ]
  },
  {
   "cell_type": "code",
   "execution_count": 60,
   "id": "b71c2c41",
   "metadata": {},
   "outputs": [],
   "source": [
    "I0 = 5\n",
    "S = 1\n",
    "tau = np.linspace(0, 10, 100)"
   ]
  },
  {
   "cell_type": "code",
   "execution_count": 61,
   "id": "126d0a21",
   "metadata": {},
   "outputs": [
    {
     "data": {
      "text/plain": [
       "array([5.        , 4.61569561, 4.26831368, 3.95430686, 3.67046859,\n",
       "       3.41390038, 3.18198226, 2.97234591, 2.78285062, 2.61156129,\n",
       "       2.45672877, 2.31677195, 2.19026164, 2.07590595, 1.9725371 ,\n",
       "       1.87909953, 1.79463908, 1.71829326, 1.64928244, 1.58690192,\n",
       "       1.53051467, 1.4795449 , 1.43347209, 1.39182579, 1.35418069,\n",
       "       1.32015239, 1.2893934 , 1.26158961, 1.2364571 , 1.21373923,\n",
       "       1.193204  , 1.17464171, 1.15786282, 1.14269597, 1.1289863 ,\n",
       "       1.1165938 , 1.10539192, 1.09526628, 1.08611347, 1.07784002,\n",
       "       1.07036146, 1.0636014 , 1.05749083, 1.05196733, 1.04697451,\n",
       "       1.04246139, 1.03838186, 1.03469428, 1.03136099, 1.02834795,\n",
       "       1.02562439, 1.0231625 , 1.02093714, 1.01892558, 1.01710728,\n",
       "       1.01546368, 1.01397799, 1.01263504, 1.01142111, 1.01032382,\n",
       "       1.00933195, 1.00843537, 1.00762493, 1.00689236, 1.00623017,\n",
       "       1.0056316 , 1.00509054, 1.00460146, 1.00415937, 1.00375975,\n",
       "       1.00339853, 1.00307201, 1.00277686, 1.00251007, 1.00226892,\n",
       "       1.00205093, 1.00185388, 1.00167577, 1.00151477, 1.00136923,\n",
       "       1.00123768, 1.00111877, 1.00101128, 1.00091412, 1.0008263 ,\n",
       "       1.00074691, 1.00067515, 1.00061029, 1.00055165, 1.00049865,\n",
       "       1.00045074, 1.00040744, 1.00036829, 1.00033291, 1.00030092,\n",
       "       1.00027201, 1.00024588, 1.00022225, 1.0002009 , 1.0001816 ])"
      ]
     },
     "execution_count": 61,
     "metadata": {},
     "output_type": "execute_result"
    }
   ],
   "source": [
    "I0*np.exp(-1*tau) + S*(1 - np.exp(-1*tau))"
   ]
  },
  {
   "cell_type": "code",
   "execution_count": 62,
   "id": "18313ff3",
   "metadata": {},
   "outputs": [],
   "source": [
    "I_s = lambda I0, S, tau: I0*np.exp(-1*tau) + S*(1 - np.exp(-1*tau))"
   ]
  },
  {
   "cell_type": "code",
   "execution_count": 63,
   "id": "b1df0592",
   "metadata": {},
   "outputs": [
    {
     "data": {
      "text/plain": [
       "[<matplotlib.lines.Line2D at 0x5a3c5f8>]"
      ]
     },
     "execution_count": 63,
     "metadata": {},
     "output_type": "execute_result"
    },
    {
     "data": {
      "image/png": "[encoded data removed]",
      "text/plain": [
       "<Figure size 432x288 with 1 Axes>"
      ]
     },
     "metadata": {
      "needs_background": "light"
     },
     "output_type": "display_data"
    }
   ],
   "source": [
    "I = I_s(I0, S, tau)\n",
    "plt.plot(tau, I)"
   ]
  },
  {
   "cell_type": "code",
   "execution_count": 37,
   "id": "2255425f",
   "metadata": {},
   "outputs": [
    {
     "data": {
      "text/plain": [
       "5"
      ]
     },
     "execution_count": 37,
     "metadata": {},
     "output_type": "execute_result"
    }
   ],
   "source": [
    "I"
   ]
  },
  {
   "cell_type": "code",
   "execution_count": null,
   "id": "ad14e425",
   "metadata": {},
   "outputs": [],
   "source": []
  }
 ],
 "metadata": {
  "kernelspec": {
   "display_name": "Python 3 (ipykernel)",
   "language": "python",
   "name": "python3"
  },
  "language_info": {
   "codemirror_mode": {
    "name": "ipython",
    "version": 3
   },
   "file_extension": ".py",
   "mimetype": "text/x-python",
   "name": "python",
   "nbconvert_exporter": "python",
   "pygments_lexer": "ipython3",
   "version": "3.9.7"
  }
 },
 "nbformat": 4,
 "nbformat_minor": 5
}
